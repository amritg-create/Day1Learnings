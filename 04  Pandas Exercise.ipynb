{
 "cells": [
  {
   "cell_type": "markdown",
   "metadata": {},
   "source": [
    "# Pandas Exercise"
   ]
  },
  {
   "cell_type": "code",
   "execution_count": 1,
   "metadata": {},
   "outputs": [],
   "source": [
    "import pandas as pd"
   ]
  },
  {
   "cell_type": "markdown",
   "metadata": {},
   "source": [
    "## Dataset: Top songs all-time over various platforms (as of June 2024)"
   ]
  },
  {
   "cell_type": "code",
   "execution_count": 2,
   "metadata": {},
   "outputs": [
    {
     "data": {
      "text/html": [
       "<div>\n",
       "<style scoped>\n",
       "    .dataframe tbody tr th:only-of-type {\n",
       "        vertical-align: middle;\n",
       "    }\n",
       "\n",
       "    .dataframe tbody tr th {\n",
       "        vertical-align: top;\n",
       "    }\n",
       "\n",
       "    .dataframe thead th {\n",
       "        text-align: right;\n",
       "    }\n",
       "</style>\n",
       "<table border=\"1\" class=\"dataframe\">\n",
       "  <thead>\n",
       "    <tr style=\"text-align: right;\">\n",
       "      <th></th>\n",
       "      <th>Track</th>\n",
       "      <th>Album Name</th>\n",
       "      <th>Artist</th>\n",
       "      <th>Release Date</th>\n",
       "      <th>Track Score</th>\n",
       "      <th>Spotify Streams</th>\n",
       "      <th>Spotify Playlist Count</th>\n",
       "      <th>Spotify Popularity</th>\n",
       "      <th>YouTube Views</th>\n",
       "      <th>YouTube Likes</th>\n",
       "      <th>TikTok Likes</th>\n",
       "      <th>TikTok Views</th>\n",
       "      <th>Explicit Track</th>\n",
       "    </tr>\n",
       "  </thead>\n",
       "  <tbody>\n",
       "    <tr>\n",
       "      <th>0</th>\n",
       "      <td>MILLION DOLLAR BABY</td>\n",
       "      <td>Million Dollar Baby - Single</td>\n",
       "      <td>Tommy Richman</td>\n",
       "      <td>4/26/2024</td>\n",
       "      <td>725.4</td>\n",
       "      <td>390,470,936</td>\n",
       "      <td>30716</td>\n",
       "      <td>92.0</td>\n",
       "      <td>84,274,754</td>\n",
       "      <td>1,713,126</td>\n",
       "      <td>651,565,900</td>\n",
       "      <td>5,332,281,936</td>\n",
       "      <td>0</td>\n",
       "    </tr>\n",
       "    <tr>\n",
       "      <th>1</th>\n",
       "      <td>Not Like Us</td>\n",
       "      <td>Not Like Us</td>\n",
       "      <td>Kendrick Lamar</td>\n",
       "      <td>5/4/2024</td>\n",
       "      <td>545.9</td>\n",
       "      <td>323,703,884</td>\n",
       "      <td>28113</td>\n",
       "      <td>92.0</td>\n",
       "      <td>116,347,040</td>\n",
       "      <td>3,486,739</td>\n",
       "      <td>35,223,547</td>\n",
       "      <td>208,339,025</td>\n",
       "      <td>1</td>\n",
       "    </tr>\n",
       "    <tr>\n",
       "      <th>2</th>\n",
       "      <td>i like the way you kiss me</td>\n",
       "      <td>I like the way you kiss me</td>\n",
       "      <td>Artemas</td>\n",
       "      <td>3/19/2024</td>\n",
       "      <td>538.4</td>\n",
       "      <td>601,309,283</td>\n",
       "      <td>54331</td>\n",
       "      <td>92.0</td>\n",
       "      <td>122,599,116</td>\n",
       "      <td>2,228,730</td>\n",
       "      <td>275,154,237</td>\n",
       "      <td>3,369,120,610</td>\n",
       "      <td>0</td>\n",
       "    </tr>\n",
       "    <tr>\n",
       "      <th>3</th>\n",
       "      <td>Flowers</td>\n",
       "      <td>Flowers - Single</td>\n",
       "      <td>Miley Cyrus</td>\n",
       "      <td>1/12/2023</td>\n",
       "      <td>444.9</td>\n",
       "      <td>2,031,280,633</td>\n",
       "      <td>269802</td>\n",
       "      <td>85.0</td>\n",
       "      <td>1,096,100,899</td>\n",
       "      <td>10,629,796</td>\n",
       "      <td>1,078,757,968</td>\n",
       "      <td>14,603,725,994</td>\n",
       "      <td>0</td>\n",
       "    </tr>\n",
       "    <tr>\n",
       "      <th>4</th>\n",
       "      <td>Houdini</td>\n",
       "      <td>Houdini</td>\n",
       "      <td>Eminem</td>\n",
       "      <td>5/31/2024</td>\n",
       "      <td>423.3</td>\n",
       "      <td>107,034,922</td>\n",
       "      <td>7223</td>\n",
       "      <td>88.0</td>\n",
       "      <td>77,373,957</td>\n",
       "      <td>3,670,188</td>\n",
       "      <td>NaN</td>\n",
       "      <td>NaN</td>\n",
       "      <td>1</td>\n",
       "    </tr>\n",
       "  </tbody>\n",
       "</table>\n",
       "</div>"
      ],
      "text/plain": [
       "                        Track                    Album Name          Artist  \\\n",
       "0         MILLION DOLLAR BABY  Million Dollar Baby - Single   Tommy Richman   \n",
       "1                 Not Like Us                   Not Like Us  Kendrick Lamar   \n",
       "2  i like the way you kiss me    I like the way you kiss me         Artemas   \n",
       "3                     Flowers              Flowers - Single     Miley Cyrus   \n",
       "4                     Houdini                       Houdini          Eminem   \n",
       "\n",
       "  Release Date  Track Score Spotify Streams  Spotify Playlist Count  \\\n",
       "0    4/26/2024        725.4     390,470,936                   30716   \n",
       "1     5/4/2024        545.9     323,703,884                   28113   \n",
       "2    3/19/2024        538.4     601,309,283                   54331   \n",
       "3    1/12/2023        444.9   2,031,280,633                  269802   \n",
       "4    5/31/2024        423.3     107,034,922                    7223   \n",
       "\n",
       "   Spotify Popularity  YouTube Views YouTube Likes   TikTok Likes  \\\n",
       "0                92.0     84,274,754     1,713,126    651,565,900   \n",
       "1                92.0    116,347,040     3,486,739     35,223,547   \n",
       "2                92.0    122,599,116     2,228,730    275,154,237   \n",
       "3                85.0  1,096,100,899    10,629,796  1,078,757,968   \n",
       "4                88.0     77,373,957     3,670,188            NaN   \n",
       "\n",
       "     TikTok Views  Explicit Track  \n",
       "0   5,332,281,936               0  \n",
       "1     208,339,025               1  \n",
       "2   3,369,120,610               0  \n",
       "3  14,603,725,994               0  \n",
       "4             NaN               1  "
      ]
     },
     "execution_count": 2,
     "metadata": {},
     "output_type": "execute_result"
    }
   ],
   "source": [
    "df = pd.read_csv(\"top_songs.csv\")\n",
    "df.head(5)"
   ]
  },
  {
   "cell_type": "markdown",
   "metadata": {},
   "source": [
    "---"
   ]
  },
  {
   "cell_type": "markdown",
   "metadata": {},
   "source": [
    "### 1.) How many rows are in the dataset?"
   ]
  },
  {
   "cell_type": "code",
   "execution_count": 3,
   "metadata": {},
   "outputs": [
    {
     "name": "stdout",
     "output_type": "stream",
     "text": [
      "<class 'pandas.core.frame.DataFrame'>\n",
      "RangeIndex: 4530 entries, 0 to 4529\n",
      "Data columns (total 13 columns):\n",
      " #   Column                  Non-Null Count  Dtype  \n",
      "---  ------                  --------------  -----  \n",
      " 0   Track                   4530 non-null   object \n",
      " 1   Album Name              4530 non-null   object \n",
      " 2   Artist                  4530 non-null   object \n",
      " 3   Release Date            4530 non-null   object \n",
      " 4   Track Score             4530 non-null   float64\n",
      " 5   Spotify Streams         4467 non-null   object \n",
      " 6   Spotify Playlist Count  4530 non-null   int64  \n",
      " 7   Spotify Popularity      3795 non-null   float64\n",
      " 8   YouTube Views           4263 non-null   object \n",
      " 9   YouTube Likes           4256 non-null   object \n",
      " 10  TikTok Likes            3617 non-null   object \n",
      " 11  TikTok Views            3616 non-null   object \n",
      " 12  Explicit Track          4530 non-null   int64  \n",
      "dtypes: float64(2), int64(2), object(9)\n",
      "memory usage: 460.2+ KB\n"
     ]
    }
   ],
   "source": [
    "df.info()"
   ]
  },
  {
   "cell_type": "markdown",
   "metadata": {},
   "source": [
    "### 2.) How many columns are in the dataset?"
   ]
  },
  {
   "cell_type": "code",
   "execution_count": 4,
   "metadata": {},
   "outputs": [
    {
     "name": "stdout",
     "output_type": "stream",
     "text": [
      "<class 'pandas.core.frame.DataFrame'>\n",
      "RangeIndex: 4530 entries, 0 to 4529\n",
      "Data columns (total 13 columns):\n",
      " #   Column                  Non-Null Count  Dtype  \n",
      "---  ------                  --------------  -----  \n",
      " 0   Track                   4530 non-null   object \n",
      " 1   Album Name              4530 non-null   object \n",
      " 2   Artist                  4530 non-null   object \n",
      " 3   Release Date            4530 non-null   object \n",
      " 4   Track Score             4530 non-null   float64\n",
      " 5   Spotify Streams         4467 non-null   object \n",
      " 6   Spotify Playlist Count  4530 non-null   int64  \n",
      " 7   Spotify Popularity      3795 non-null   float64\n",
      " 8   YouTube Views           4263 non-null   object \n",
      " 9   YouTube Likes           4256 non-null   object \n",
      " 10  TikTok Likes            3617 non-null   object \n",
      " 11  TikTok Views            3616 non-null   object \n",
      " 12  Explicit Track          4530 non-null   int64  \n",
      "dtypes: float64(2), int64(2), object(9)\n",
      "memory usage: 460.2+ KB\n"
     ]
    }
   ],
   "source": [
    "df.info()"
   ]
  },
  {
   "cell_type": "markdown",
   "metadata": {},
   "source": [
    "### 3.) Which is the Pandas method to get a summary of the data?"
   ]
  },
  {
   "cell_type": "code",
   "execution_count": 6,
   "metadata": {},
   "outputs": [
    {
     "data": {
      "text/html": [
       "<div>\n",
       "<style scoped>\n",
       "    .dataframe tbody tr th:only-of-type {\n",
       "        vertical-align: middle;\n",
       "    }\n",
       "\n",
       "    .dataframe tbody tr th {\n",
       "        vertical-align: top;\n",
       "    }\n",
       "\n",
       "    .dataframe thead th {\n",
       "        text-align: right;\n",
       "    }\n",
       "</style>\n",
       "<table border=\"1\" class=\"dataframe\">\n",
       "  <thead>\n",
       "    <tr style=\"text-align: right;\">\n",
       "      <th></th>\n",
       "      <th>Track Score</th>\n",
       "      <th>Spotify Playlist Count</th>\n",
       "      <th>Spotify Popularity</th>\n",
       "      <th>Explicit Track</th>\n",
       "    </tr>\n",
       "  </thead>\n",
       "  <tbody>\n",
       "    <tr>\n",
       "      <th>count</th>\n",
       "      <td>4530.000000</td>\n",
       "      <td>4530.000000</td>\n",
       "      <td>3795.000000</td>\n",
       "      <td>4530.000000</td>\n",
       "    </tr>\n",
       "    <tr>\n",
       "      <th>mean</th>\n",
       "      <td>41.855408</td>\n",
       "      <td>59390.829801</td>\n",
       "      <td>63.514361</td>\n",
       "      <td>0.361369</td>\n",
       "    </tr>\n",
       "    <tr>\n",
       "      <th>std</th>\n",
       "      <td>38.622571</td>\n",
       "      <td>71131.406625</td>\n",
       "      <td>16.169405</td>\n",
       "      <td>0.480450</td>\n",
       "    </tr>\n",
       "    <tr>\n",
       "      <th>min</th>\n",
       "      <td>19.400000</td>\n",
       "      <td>1.000000</td>\n",
       "      <td>1.000000</td>\n",
       "      <td>0.000000</td>\n",
       "    </tr>\n",
       "    <tr>\n",
       "      <th>25%</th>\n",
       "      <td>23.300000</td>\n",
       "      <td>6718.000000</td>\n",
       "      <td>61.000000</td>\n",
       "      <td>0.000000</td>\n",
       "    </tr>\n",
       "    <tr>\n",
       "      <th>50%</th>\n",
       "      <td>29.900000</td>\n",
       "      <td>32312.500000</td>\n",
       "      <td>67.000000</td>\n",
       "      <td>0.000000</td>\n",
       "    </tr>\n",
       "    <tr>\n",
       "      <th>75%</th>\n",
       "      <td>44.400000</td>\n",
       "      <td>86038.750000</td>\n",
       "      <td>73.000000</td>\n",
       "      <td>1.000000</td>\n",
       "    </tr>\n",
       "    <tr>\n",
       "      <th>max</th>\n",
       "      <td>725.400000</td>\n",
       "      <td>590392.000000</td>\n",
       "      <td>96.000000</td>\n",
       "      <td>1.000000</td>\n",
       "    </tr>\n",
       "  </tbody>\n",
       "</table>\n",
       "</div>"
      ],
      "text/plain": [
       "       Track Score  Spotify Playlist Count  Spotify Popularity  Explicit Track\n",
       "count  4530.000000             4530.000000         3795.000000     4530.000000\n",
       "mean     41.855408            59390.829801           63.514361        0.361369\n",
       "std      38.622571            71131.406625           16.169405        0.480450\n",
       "min      19.400000                1.000000            1.000000        0.000000\n",
       "25%      23.300000             6718.000000           61.000000        0.000000\n",
       "50%      29.900000            32312.500000           67.000000        0.000000\n",
       "75%      44.400000            86038.750000           73.000000        1.000000\n",
       "max     725.400000           590392.000000           96.000000        1.000000"
      ]
     },
     "execution_count": 6,
     "metadata": {},
     "output_type": "execute_result"
    }
   ],
   "source": [
    "df.describe()"
   ]
  },
  {
   "cell_type": "markdown",
   "metadata": {},
   "source": [
    "### 4.) What is the average Track Score among these top tracks?"
   ]
  },
  {
   "cell_type": "code",
   "execution_count": 9,
   "metadata": {},
   "outputs": [
    {
     "data": {
      "text/plain": [
       "41.85540838852097"
      ]
     },
     "execution_count": 9,
     "metadata": {},
     "output_type": "execute_result"
    }
   ],
   "source": [
    "df['Track Score'].mean()"
   ]
  },
  {
   "cell_type": "markdown",
   "metadata": {},
   "source": [
    "### 5.) What is the minimum Spotify Popularity score among these top tracks?"
   ]
  },
  {
   "cell_type": "code",
   "execution_count": 5,
   "metadata": {},
   "outputs": [
    {
     "data": {
      "text/plain": [
       "1.0"
      ]
     },
     "execution_count": 5,
     "metadata": {},
     "output_type": "execute_result"
    }
   ],
   "source": [
    "df['Spotify Popularity'].min()"
   ]
  },
  {
   "cell_type": "markdown",
   "metadata": {},
   "source": [
    "### 6.) Which artist has the most tracks among these top tracks?"
   ]
  },
  {
   "cell_type": "code",
   "execution_count": 18,
   "metadata": {},
   "outputs": [
    {
     "data": {
      "text/plain": [
       "Artist\n",
       "Drake                       63\n",
       "Taylor Swift                63\n",
       "Bad Bunny                   60\n",
       "KAROL G                     32\n",
       "Travis Scott                30\n",
       "                            ..\n",
       "Inder Arya                   1\n",
       "Imanbek                      1\n",
       "Ikka                         1\n",
       "Iggy Azalea                  1\n",
       "ýýýýýýýýýýýýýýýýýýýýýýýý     1\n",
       "Length: 1959, dtype: int64"
      ]
     },
     "execution_count": 18,
     "metadata": {},
     "output_type": "execute_result"
    }
   ],
   "source": [
    "df[['Track', 'Artist']].value_counts('Artist')"
   ]
  },
  {
   "cell_type": "markdown",
   "metadata": {},
   "source": [
    "### 7.) Which artist has the track in the most Spotify playlists?"
   ]
  },
  {
   "cell_type": "code",
   "execution_count": 32,
   "metadata": {},
   "outputs": [
    {
     "data": {
      "text/plain": [
       "'The Weeknd'"
      ]
     },
     "execution_count": 32,
     "metadata": {},
     "output_type": "execute_result"
    }
   ],
   "source": [
    "df['Spotify Playlist Count'].nlargest()\n",
    "df.loc[54, 'Artist']"
   ]
  },
  {
   "cell_type": "markdown",
   "metadata": {},
   "source": [
    "### 8.) From among the 5 tracks with the largest Spotify Playlist Count, which has the most TikTok Views?"
   ]
  },
  {
   "cell_type": "code",
   "execution_count": 42,
   "metadata": {},
   "outputs": [
    {
     "data": {
      "text/plain": [
       "'The Kid LAROI'"
      ]
     },
     "execution_count": 42,
     "metadata": {},
     "output_type": "execute_result"
    }
   ],
   "source": [
    "df.loc[26,'Artist']"
   ]
  },
  {
   "cell_type": "markdown",
   "metadata": {},
   "source": [
    "### 9.) From among the 5 tracks with the largest Spotify Playlist Count, how many are explicit tracks?"
   ]
  },
  {
   "cell_type": "code",
   "execution_count": 48,
   "metadata": {},
   "outputs": [
    {
     "data": {
      "text/plain": [
       "0"
      ]
     },
     "execution_count": 48,
     "metadata": {},
     "output_type": "execute_result"
    }
   ],
   "source": [
    "1"
   ]
  },
  {
   "cell_type": "markdown",
   "metadata": {},
   "source": [
    "### 10.) For the track with a Spotify Popularity score of 12 and a Spotify Playlist Count of 277, how many YouTube views does it have?"
   ]
  },
  {
   "cell_type": "code",
   "execution_count": 67,
   "metadata": {},
   "outputs": [
    {
     "data": {
      "text/html": [
       "<div>\n",
       "<style scoped>\n",
       "    .dataframe tbody tr th:only-of-type {\n",
       "        vertical-align: middle;\n",
       "    }\n",
       "\n",
       "    .dataframe tbody tr th {\n",
       "        vertical-align: top;\n",
       "    }\n",
       "\n",
       "    .dataframe thead th {\n",
       "        text-align: right;\n",
       "    }\n",
       "</style>\n",
       "<table border=\"1\" class=\"dataframe\">\n",
       "  <thead>\n",
       "    <tr style=\"text-align: right;\">\n",
       "      <th></th>\n",
       "      <th>Track</th>\n",
       "      <th>Album Name</th>\n",
       "      <th>Artist</th>\n",
       "      <th>Release Date</th>\n",
       "      <th>Track Score</th>\n",
       "      <th>Spotify Streams</th>\n",
       "      <th>Spotify Playlist Count</th>\n",
       "      <th>Spotify Popularity</th>\n",
       "      <th>YouTube Views</th>\n",
       "      <th>YouTube Likes</th>\n",
       "      <th>TikTok Likes</th>\n",
       "      <th>TikTok Views</th>\n",
       "      <th>Explicit Track</th>\n",
       "    </tr>\n",
       "  </thead>\n",
       "  <tbody>\n",
       "    <tr>\n",
       "      <th>14</th>\n",
       "      <td>bathroom floor</td>\n",
       "      <td>bathroom floor</td>\n",
       "      <td>Kids With Buns</td>\n",
       "      <td>10/7/2022</td>\n",
       "      <td>301.6</td>\n",
       "      <td>297,185</td>\n",
       "      <td>277</td>\n",
       "      <td>12.0</td>\n",
       "      <td>6,736,502,312</td>\n",
       "      <td>16,785,489</td>\n",
       "      <td>1,088</td>\n",
       "      <td>22,234</td>\n",
       "      <td>0</td>\n",
       "    </tr>\n",
       "    <tr>\n",
       "      <th>222</th>\n",
       "      <td>Illusion</td>\n",
       "      <td>Illusion</td>\n",
       "      <td>Dua Lipa</td>\n",
       "      <td>4/11/2024</td>\n",
       "      <td>103.1</td>\n",
       "      <td>108,501,771</td>\n",
       "      <td>7430</td>\n",
       "      <td>12.0</td>\n",
       "      <td>3,947,610</td>\n",
       "      <td>60,459</td>\n",
       "      <td>4,057</td>\n",
       "      <td>38,200</td>\n",
       "      <td>1</td>\n",
       "    </tr>\n",
       "    <tr>\n",
       "      <th>275</th>\n",
       "      <td>Sunroof</td>\n",
       "      <td>Sunroof</td>\n",
       "      <td>Nicky Youre</td>\n",
       "      <td>11/26/2021</td>\n",
       "      <td>92.3</td>\n",
       "      <td>879,708,559</td>\n",
       "      <td>44652</td>\n",
       "      <td>12.0</td>\n",
       "      <td>74,610,328</td>\n",
       "      <td>807,333</td>\n",
       "      <td>1,672,193,890</td>\n",
       "      <td>22,086,963,233</td>\n",
       "      <td>0</td>\n",
       "    </tr>\n",
       "    <tr>\n",
       "      <th>484</th>\n",
       "      <td>Bandit</td>\n",
       "      <td>Bandit - Single</td>\n",
       "      <td>Don Toliver</td>\n",
       "      <td>2/1/2024</td>\n",
       "      <td>69.6</td>\n",
       "      <td>152,597,421</td>\n",
       "      <td>19834</td>\n",
       "      <td>12.0</td>\n",
       "      <td>6,556,571</td>\n",
       "      <td>181,948</td>\n",
       "      <td>5,037,290</td>\n",
       "      <td>98,100,600</td>\n",
       "      <td>1</td>\n",
       "    </tr>\n",
       "    <tr>\n",
       "      <th>518</th>\n",
       "      <td>Lemonade</td>\n",
       "      <td>Lemonade</td>\n",
       "      <td>Internet Money</td>\n",
       "      <td>8/14/2020</td>\n",
       "      <td>67.3</td>\n",
       "      <td>1,320,495,311</td>\n",
       "      <td>280937</td>\n",
       "      <td>12.0</td>\n",
       "      <td>446,997,037</td>\n",
       "      <td>4,911,417</td>\n",
       "      <td>178,619,501</td>\n",
       "      <td>1,355,578,291</td>\n",
       "      <td>1</td>\n",
       "    </tr>\n",
       "    <tr>\n",
       "      <th>993</th>\n",
       "      <td>April Rain in August Weather</td>\n",
       "      <td>April Rain in August Weather - Single</td>\n",
       "      <td>Baba Blakes</td>\n",
       "      <td>3/24/2023</td>\n",
       "      <td>47.9</td>\n",
       "      <td>408,449</td>\n",
       "      <td>38</td>\n",
       "      <td>12.0</td>\n",
       "      <td>524,571,173</td>\n",
       "      <td>1,510,602</td>\n",
       "      <td>20</td>\n",
       "      <td>385</td>\n",
       "      <td>0</td>\n",
       "    </tr>\n",
       "    <tr>\n",
       "      <th>998</th>\n",
       "      <td>bad idea right?</td>\n",
       "      <td>bad idea right?</td>\n",
       "      <td>Olivia Rodrigo</td>\n",
       "      <td>8/11/2023</td>\n",
       "      <td>47.7</td>\n",
       "      <td>433,515,672</td>\n",
       "      <td>37313</td>\n",
       "      <td>12.0</td>\n",
       "      <td>37,971,085</td>\n",
       "      <td>871,048</td>\n",
       "      <td>92,857,729</td>\n",
       "      <td>839,351,640</td>\n",
       "      <td>1</td>\n",
       "    </tr>\n",
       "  </tbody>\n",
       "</table>\n",
       "</div>"
      ],
      "text/plain": [
       "                            Track                             Album Name  \\\n",
       "14                 bathroom floor                         bathroom floor   \n",
       "222                      Illusion                               Illusion   \n",
       "275                       Sunroof                                Sunroof   \n",
       "484                        Bandit                        Bandit - Single   \n",
       "518                      Lemonade                               Lemonade   \n",
       "993  April Rain in August Weather  April Rain in August Weather - Single   \n",
       "998               bad idea right?                        bad idea right?   \n",
       "\n",
       "             Artist Release Date  Track Score Spotify Streams  \\\n",
       "14   Kids With Buns    10/7/2022        301.6         297,185   \n",
       "222        Dua Lipa    4/11/2024        103.1     108,501,771   \n",
       "275     Nicky Youre   11/26/2021         92.3     879,708,559   \n",
       "484     Don Toliver     2/1/2024         69.6     152,597,421   \n",
       "518  Internet Money    8/14/2020         67.3   1,320,495,311   \n",
       "993     Baba Blakes    3/24/2023         47.9         408,449   \n",
       "998  Olivia Rodrigo    8/11/2023         47.7     433,515,672   \n",
       "\n",
       "     Spotify Playlist Count  Spotify Popularity  YouTube Views YouTube Likes  \\\n",
       "14                      277                12.0  6,736,502,312    16,785,489   \n",
       "222                    7430                12.0      3,947,610        60,459   \n",
       "275                   44652                12.0     74,610,328       807,333   \n",
       "484                   19834                12.0      6,556,571       181,948   \n",
       "518                  280937                12.0    446,997,037     4,911,417   \n",
       "993                      38                12.0    524,571,173     1,510,602   \n",
       "998                   37313                12.0     37,971,085       871,048   \n",
       "\n",
       "      TikTok Likes    TikTok Views  Explicit Track  \n",
       "14           1,088          22,234               0  \n",
       "222          4,057          38,200               1  \n",
       "275  1,672,193,890  22,086,963,233               0  \n",
       "484      5,037,290      98,100,600               1  \n",
       "518    178,619,501   1,355,578,291               1  \n",
       "993             20             385               0  \n",
       "998     92,857,729     839,351,640               1  "
      ]
     },
     "execution_count": 67,
     "metadata": {},
     "output_type": "execute_result"
    }
   ],
   "source": [
    "df[df['Spotify Popularity']==12]\n",
    "#It has 6,736,502,312 Youtube Views"
   ]
  },
  {
   "cell_type": "markdown",
   "metadata": {},
   "source": [
    "---"
   ]
  },
  {
   "cell_type": "code",
   "execution_count": null,
   "metadata": {},
   "outputs": [],
   "source": []
  }
 ],
 "metadata": {
  "kernelspec": {
   "display_name": "Python 3 (ipykernel)",
   "language": "python",
   "name": "python3"
  },
  "language_info": {
   "codemirror_mode": {
    "name": "ipython",
    "version": 3
   },
   "file_extension": ".py",
   "mimetype": "text/x-python",
   "name": "python",
   "nbconvert_exporter": "python",
   "pygments_lexer": "ipython3",
   "version": "3.11.7"
  }
 },
 "nbformat": 4,
 "nbformat_minor": 4
}
